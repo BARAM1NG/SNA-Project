{
  "cells": [
    {
      "cell_type": "markdown",
      "metadata": {
        "id": "hg4BBtMXR0up"
      },
      "source": [
        "# 1. 기본 작업"
      ]
    },
    {
      "cell_type": "code",
      "execution_count": 17,
      "metadata": {
        "id": "OoABZpnUQ7Zx"
      },
      "outputs": [],
      "source": [
        "# 라이브러리 로드\n",
        "import pandas as pd\n",
        "import networkx as nx\n",
        "import matplotlib.pyplot as plt\n",
        "import numpy as np\n",
        "import random\n",
        "# from multiprocessing import Pool\n",
        "# import itertools\n",
        "from tqdm import tqdm\n",
        "# from multiprocessing import Manager\n",
        "# from concurrent.futures import ThreadPoolExecutor"
      ]
    },
    {
      "cell_type": "code",
      "execution_count": 18,
      "metadata": {
        "id": "8Wu0fL7-RfXp"
      },
      "outputs": [],
      "source": [
        "# 데이터셋 로드\n",
        "kia_video = pd.read_csv('/content/KIA_video_df.csv')  # 기아 영상\n",
        "kia_comment = pd.read_csv('/content/kia_with_sentiment.csv')  # 기아 댓글\n",
        "samsung_video = pd.read_csv('/content/SAMSUNG_video_df.csv')  # 삼성 영상\n",
        "samsung_comment = pd.read_csv('/content/samsung_with_sentiment.csv')  # 삼성 댓글"
      ]
    },
    {
      "cell_type": "code",
      "execution_count": 19,
      "metadata": {
        "colab": {
          "base_uri": "https://localhost:8080/",
          "height": 210
        },
        "id": "VSdOO6KVofBA",
        "outputId": "c4ced91b-52c6-4f2b-adef-875e6814e319"
      },
      "outputs": [
        {
          "output_type": "execute_result",
          "data": {
            "text/plain": [
              "final_sentiment\n",
              "KIA        8754\n",
              "unknown    2464\n",
              "SAMSUNG      61\n",
              "Name: count, dtype: int64"
            ],
            "text/html": [
              "<div>\n",
              "<style scoped>\n",
              "    .dataframe tbody tr th:only-of-type {\n",
              "        vertical-align: middle;\n",
              "    }\n",
              "\n",
              "    .dataframe tbody tr th {\n",
              "        vertical-align: top;\n",
              "    }\n",
              "\n",
              "    .dataframe thead th {\n",
              "        text-align: right;\n",
              "    }\n",
              "</style>\n",
              "<table border=\"1\" class=\"dataframe\">\n",
              "  <thead>\n",
              "    <tr style=\"text-align: right;\">\n",
              "      <th></th>\n",
              "      <th>count</th>\n",
              "    </tr>\n",
              "    <tr>\n",
              "      <th>final_sentiment</th>\n",
              "      <th></th>\n",
              "    </tr>\n",
              "  </thead>\n",
              "  <tbody>\n",
              "    <tr>\n",
              "      <th>KIA</th>\n",
              "      <td>8754</td>\n",
              "    </tr>\n",
              "    <tr>\n",
              "      <th>unknown</th>\n",
              "      <td>2464</td>\n",
              "    </tr>\n",
              "    <tr>\n",
              "      <th>SAMSUNG</th>\n",
              "      <td>61</td>\n",
              "    </tr>\n",
              "  </tbody>\n",
              "</table>\n",
              "</div><br><label><b>dtype:</b> int64</label>"
            ]
          },
          "metadata": {},
          "execution_count": 19
        }
      ],
      "source": [
        "kia_comment['final_sentiment'].value_counts()"
      ]
    },
    {
      "cell_type": "code",
      "execution_count": 20,
      "metadata": {
        "colab": {
          "base_uri": "https://localhost:8080/",
          "height": 210
        },
        "id": "tpCvvqmZofBD",
        "outputId": "f652ccba-f7b2-4fc0-9443-f048f63dd3e2"
      },
      "outputs": [
        {
          "output_type": "execute_result",
          "data": {
            "text/plain": [
              "final_sentiment\n",
              "SAMSUNG    6361\n",
              "unknown    1008\n",
              "KIA          18\n",
              "Name: count, dtype: int64"
            ],
            "text/html": [
              "<div>\n",
              "<style scoped>\n",
              "    .dataframe tbody tr th:only-of-type {\n",
              "        vertical-align: middle;\n",
              "    }\n",
              "\n",
              "    .dataframe tbody tr th {\n",
              "        vertical-align: top;\n",
              "    }\n",
              "\n",
              "    .dataframe thead th {\n",
              "        text-align: right;\n",
              "    }\n",
              "</style>\n",
              "<table border=\"1\" class=\"dataframe\">\n",
              "  <thead>\n",
              "    <tr style=\"text-align: right;\">\n",
              "      <th></th>\n",
              "      <th>count</th>\n",
              "    </tr>\n",
              "    <tr>\n",
              "      <th>final_sentiment</th>\n",
              "      <th></th>\n",
              "    </tr>\n",
              "  </thead>\n",
              "  <tbody>\n",
              "    <tr>\n",
              "      <th>SAMSUNG</th>\n",
              "      <td>6361</td>\n",
              "    </tr>\n",
              "    <tr>\n",
              "      <th>unknown</th>\n",
              "      <td>1008</td>\n",
              "    </tr>\n",
              "    <tr>\n",
              "      <th>KIA</th>\n",
              "      <td>18</td>\n",
              "    </tr>\n",
              "  </tbody>\n",
              "</table>\n",
              "</div><br><label><b>dtype:</b> int64</label>"
            ]
          },
          "metadata": {},
          "execution_count": 20
        }
      ],
      "source": [
        "samsung_comment['final_sentiment'].value_counts()"
      ]
    },
    {
      "cell_type": "code",
      "execution_count": 21,
      "metadata": {
        "id": "ieqt-wreRmuh"
      },
      "outputs": [],
      "source": [
        "# 날짜 기준 데이터 분할 함수\n",
        "def filter_data(video_data, comment_data, start_date, end_date):\n",
        "    \"\"\"\n",
        "    기간 조건에 따라 유튜브 영상 및 댓글 데이터를 필터링하는 함수.\n",
        "\n",
        "    Parameters:\n",
        "        video_data (pd.DataFrame): 영상 데이터\n",
        "        comment_data (pd.DataFrame): 댓글 데이터\n",
        "        video_start (str): 영상 시작 일자 (YYYY-MM-DD 형식).\n",
        "        video_end (str): 영상 끝 일자 (YYYY-MM-DD 형식).\n",
        "        comment_start (str): 댓글 시작 일자 (YYYY-MM-DD 형식).\n",
        "        comment_end (str): 댓글 끝 일자 (YYYY-MM-DD 형식).\n",
        "\n",
        "    Returns:\n",
        "        pd.DataFrame: 필터링된 댓글 데이터.\n",
        "    \"\"\"\n",
        "    # NaN 값을 빈 문자열로 대체하고, 모든 값을 문자열로 변환한 후 날짜 추출\n",
        "    video_data['publishedAt'] = video_data['publishedAt'].astype(str).str[:10]\n",
        "    comment_data['PublishedAt'] = comment_data['PublishedAt'].astype(str).str[:10]\n",
        "\n",
        "    # 문자열을 날짜 형식으로 변환\n",
        "    video_data['publishedAt'] = pd.to_datetime(video_data['publishedAt'], errors='coerce')\n",
        "    comment_data['PublishedAt'] = pd.to_datetime(comment_data['PublishedAt'], errors='coerce')\n",
        "\n",
        "    # 영상 필터링\n",
        "    filtered_videos = video_data[\n",
        "        (video_data['publishedAt'] >= pd.to_datetime(start_date)) &\n",
        "        (video_data['publishedAt'] <= pd.to_datetime(end_date))\n",
        "    ]\n",
        "\n",
        "    # 댓글 필터링 (필터링된 영상에 해당하는 댓글만 포함)\n",
        "    filtered_comments = comment_data[\n",
        "        (comment_data['VideoID'].isin(filtered_videos['videoId'])) &\n",
        "        (comment_data['PublishedAt'] >= pd.to_datetime(start_date)) &\n",
        "        (comment_data['PublishedAt'] <= pd.to_datetime(end_date))\n",
        "    ]\n",
        "\n",
        "    return filtered_comments"
      ]
    },
    {
      "cell_type": "code",
      "execution_count": 22,
      "metadata": {
        "id": "BjGzByPZRuJ3"
      },
      "outputs": [],
      "source": [
        "# 기아 데이터 분할 (한국시리즈 종료 전)\n",
        "kia_replies_1019_1021 = filter_data(kia_video, kia_comment, \"2024-10-19\", \"2024-10-21\")\n",
        "kia_replies_1019_1023 = filter_data(kia_video, kia_comment, \"2024-10-19\", \"2024-10-23\")\n",
        "kia_replies_1019_1025 = filter_data(kia_video, kia_comment, \"2024-10-19\", \"2024-10-25\")\n",
        "kia_replies_1019_1026 = filter_data(kia_video, kia_comment, \"2024-10-19\", \"2024-10-26\")\n",
        "kia_replies_1019_1028 = filter_data(kia_video, kia_comment, \"2024-10-19\", \"2024-10-28\")\n",
        "\n",
        "# 기아 데이터 분할 (한국시리즈 종료 후)\n",
        "kia_replies_1029_1031 = filter_data(kia_video, kia_comment, \"2024-10-29\", \"2024-10-31\")\n",
        "kia_replies_1029_1101 = filter_data(kia_video, kia_comment, \"2024-10-29\", \"2024-11-01\")\n",
        "kia_replies_1029_1102 = filter_data(kia_video, kia_comment, \"2024-10-29\", \"2024-11-02\")\n",
        "kia_replies_1029_1103 = filter_data(kia_video, kia_comment, \"2024-10-29\", \"2024-11-03\")\n",
        "kia_replies_1029_1104 = filter_data(kia_video, kia_comment, \"2024-10-29\", \"2024-11-04\")"
      ]
    },
    {
      "cell_type": "code",
      "execution_count": 23,
      "metadata": {
        "id": "5BMtnF7WRwX2"
      },
      "outputs": [],
      "source": [
        "# 삼성 데이터 분할 (한국시리즈 종료 전)\n",
        "samsung_replies_1019_1021 = filter_data(samsung_video, samsung_comment, \"2024-10-19\", \"2024-10-21\")\n",
        "samsung_replies_1019_1023 = filter_data(samsung_video, samsung_comment, \"2024-10-19\", \"2024-10-23\")\n",
        "samsung_replies_1019_1025 = filter_data(samsung_video, samsung_comment, \"2024-10-19\", \"2024-10-25\")\n",
        "samsung_replies_1019_1026 = filter_data(samsung_video, samsung_comment, \"2024-10-19\", \"2024-10-26\")\n",
        "samsung_replies_1019_1028 = filter_data(samsung_video, samsung_comment, \"2024-10-19\", \"2024-10-28\")\n",
        "\n",
        "# 삼성 데이터 분할 (한국시리즈 종료 후)\n",
        "samsung_replies_1029_1031 = filter_data(samsung_video, samsung_comment, \"2024-10-29\", \"2024-10-31\")\n",
        "samsung_replies_1029_1101 = filter_data(samsung_video, samsung_comment, \"2024-10-29\", \"2024-11-01\")\n",
        "samsung_replies_1029_1102 = filter_data(samsung_video, samsung_comment, \"2024-10-29\", \"2024-11-02\")\n",
        "samsung_replies_1029_1103 = filter_data(samsung_video, samsung_comment, \"2024-10-29\", \"2024-11-03\")\n",
        "samsung_replies_1029_1104 = filter_data(samsung_video, samsung_comment, \"2024-10-29\", \"2024-11-04\")"
      ]
    },
    {
      "cell_type": "markdown",
      "metadata": {
        "id": "7maP7EBMR7fW"
      },
      "source": [
        "# 2. 동질성/이질성 분석"
      ]
    },
    {
      "cell_type": "code",
      "source": [
        "import itertools\n",
        "import networkx as nx\n",
        "import numpy as np\n",
        "import pandas as pd\n",
        "\n",
        "# 동질성 계산 함수 (밀도 고려)\n",
        "def calculate_homophily_with_density(graph):\n",
        "    kia_edges, samsung_edges, kia_samsung_edges = 0, 0, 0\n",
        "    kia_valid_edges, samsung_valid_edges = 0, 0\n",
        "    total_possible_edges = 0\n",
        "\n",
        "    # 노드 그룹 분리\n",
        "    kia_nodes = [n for n, attr in graph.nodes(data=True) if attr.get('sentiment') == 'KIA']\n",
        "    samsung_nodes = [n for n, attr in graph.nodes(data=True) if attr.get('sentiment') == 'SAMSUNG']\n",
        "\n",
        "    # 가능한 최대 엣지 수 계산\n",
        "    kia_possible_edges = len(kia_nodes) * (len(kia_nodes) - 1) / 2\n",
        "    samsung_possible_edges = len(samsung_nodes) * (len(samsung_nodes) - 1) / 2\n",
        "    total_possible_edges = graph.number_of_nodes() * (graph.number_of_nodes() - 1) / 2\n",
        "\n",
        "    for u, v in graph.edges:\n",
        "        sentiment_u = graph.nodes[u].get('sentiment')\n",
        "        sentiment_v = graph.nodes[v].get('sentiment')\n",
        "\n",
        "        if sentiment_u in ['KIA', 'SAMSUNG'] and sentiment_v in ['KIA', 'SAMSUNG']:\n",
        "            if sentiment_u == sentiment_v == 'KIA':\n",
        "                kia_edges += 1\n",
        "            elif sentiment_u == sentiment_v == 'SAMSUNG':\n",
        "                samsung_edges += 1\n",
        "            elif {sentiment_u, sentiment_v} == {'KIA', 'SAMSUNG'}:\n",
        "                kia_samsung_edges += 1\n",
        "\n",
        "    # 밀도 기반 동질성 계산\n",
        "    kia_homophily = (kia_edges / kia_possible_edges) if kia_possible_edges > 0 else 0\n",
        "    samsung_homophily = (samsung_edges / samsung_possible_edges) if samsung_possible_edges > 0 else 0\n",
        "    kia_samsung_heterophily = (kia_samsung_edges / total_possible_edges) if total_possible_edges > 0 else 0\n",
        "\n",
        "    return {\n",
        "        'kia_homophily': kia_homophily,\n",
        "        'samsung_homophily': samsung_homophily,\n",
        "        'kia_samsung_heterophily': kia_samsung_heterophily\n",
        "    }\n",
        "\n",
        "# 댓글 작성자들만 노드로 하고, 같은 영상에 댓글을 남긴 작성자들끼리 엣지를 추가하는 네트워크 생성 함수\n",
        "def build_author_network(kia_data, samsung_data):\n",
        "    \"\"\"\n",
        "    댓글 작성자들만 노드로 하고, 같은 영상에 댓글을 남긴 작성자들끼리 엣지를 추가하는 네트워크를 생성합니다.\n",
        "    \"\"\"\n",
        "    G = nx.Graph()\n",
        "\n",
        "    # KIA와 SAMSUNG 데이터를 병합\n",
        "    all_data = pd.concat([kia_data[['VideoID', 'Author', 'final_sentiment']].dropna(),\n",
        "                          samsung_data[['VideoID', 'Author', 'final_sentiment']].dropna()])\n",
        "\n",
        "    # 작성자 sentiment 정보를 딕셔너리로 정리\n",
        "    author_sentiments = all_data.drop_duplicates('Author').set_index('Author')['final_sentiment'].to_dict()\n",
        "\n",
        "    # 각 영상별 댓글 작성자 리스트 만들기\n",
        "    video_groups = all_data.groupby('VideoID')['Author'].apply(list)\n",
        "\n",
        "    # 각 영상의 작성자들 간에 엣지 추가\n",
        "    for authors in video_groups:\n",
        "        G.add_edges_from(itertools.combinations(authors, 2))\n",
        "\n",
        "    # 노드 속성으로 sentiment 추가\n",
        "    nx.set_node_attributes(G, author_sentiments, 'sentiment')\n",
        "\n",
        "    return G"
      ],
      "metadata": {
        "id": "ZXFb-VoquMVn"
      },
      "execution_count": 24,
      "outputs": []
    },
    {
      "cell_type": "markdown",
      "metadata": {
        "id": "DprbW0HuofBT"
      },
      "source": [
        "## 2024.10.19 - 2024.10.28"
      ]
    },
    {
      "cell_type": "code",
      "execution_count": 33,
      "metadata": {
        "id": "C9ULSqXqofBT"
      },
      "outputs": [],
      "source": [
        "author_network_1019_1028 = return_author_network(kia_replies_1019_1028, samsung_replies_1019_1028)\n",
        "z_1019_1028 = calculate_homophily_with_density(author_network_1019_1028)"
      ]
    },
    {
      "cell_type": "code",
      "execution_count": 34,
      "metadata": {
        "colab": {
          "base_uri": "https://localhost:8080/"
        },
        "id": "0SPcQyB8ofBT",
        "outputId": "6403ef1e-b41b-4bd9-fa23-8edbdfe3989a"
      },
      "outputs": [
        {
          "output_type": "execute_result",
          "data": {
            "text/plain": [
              "{'kia_homophily': 0.16287127868249654,\n",
              " 'samsung_homophily': 0.3037599291259366,\n",
              " 'kia_samsung_heterophily': 0.0005783524260935825}"
            ]
          },
          "metadata": {},
          "execution_count": 34
        }
      ],
      "source": [
        "z_1019_1028"
      ]
    },
    {
      "cell_type": "markdown",
      "metadata": {
        "id": "vWEdoUbRofBd"
      },
      "source": [
        "## 2024.10.29 - 2024.11.04"
      ]
    },
    {
      "cell_type": "code",
      "execution_count": 43,
      "metadata": {
        "id": "VNgoPagHofBd"
      },
      "outputs": [],
      "source": [
        "author_network_1029_1104 = return_author_network(kia_replies_1029_1104, samsung_replies_1029_1104)\n",
        "z_1029_1104 = calculate_homophily_with_density(author_network_1029_1104)"
      ]
    },
    {
      "cell_type": "code",
      "execution_count": 44,
      "metadata": {
        "colab": {
          "base_uri": "https://localhost:8080/"
        },
        "id": "RxtBxnPsofBe",
        "outputId": "df9082b9-c7fc-40dc-8d20-58fbe6ea5b4e"
      },
      "outputs": [
        {
          "output_type": "execute_result",
          "data": {
            "text/plain": [
              "{'kia_homophily': 0.28516032310313916,\n",
              " 'samsung_homophily': 0.4697539927625764,\n",
              " 'kia_samsung_heterophily': 0.00037779872736452884}"
            ]
          },
          "metadata": {},
          "execution_count": 44
        }
      ],
      "source": [
        "z_1029_1104"
      ]
    }
  ],
  "metadata": {
    "colab": {
      "provenance": []
    },
    "kernelspec": {
      "display_name": "SocialNetwork",
      "language": "python",
      "name": "python3"
    },
    "language_info": {
      "codemirror_mode": {
        "name": "ipython",
        "version": 3
      },
      "file_extension": ".py",
      "mimetype": "text/x-python",
      "name": "python",
      "nbconvert_exporter": "python",
      "pygments_lexer": "ipython3",
      "version": "3.13.0"
    }
  },
  "nbformat": 4,
  "nbformat_minor": 0
}